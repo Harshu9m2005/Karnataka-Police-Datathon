import pandas as pd

def mask_columns(csv_file, columns_to_mask):
    # Read the CSV file into a pandas DataFrame
    df = pd.read_csv(csv_file)
    
    # Mask the specified columns with 'x'
    for column in columns_to_mask:
        if column in df.columns:
            df[column] = df[column].apply(lambda x: 'x' * len(str(x)))
        else:
            print(f"Column '{column}' not found in the CSV file.")
    
    # Write the modified DataFrame back to CSV
    df.to_csv('masked_your_csv_file.csv', index=False)

# Specify the CSV file path and columns to mask
csv_file = r'your_csv_file.csv'  # Change this to your CSV file path
columns_to_mask = ['UnitName']  # Change this to the columns you want to mask

# Call the function
mask_columns(csv_file, columns_to_mask)
